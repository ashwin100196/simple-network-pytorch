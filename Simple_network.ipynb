{
  "nbformat": 4,
  "nbformat_minor": 0,
  "metadata": {
    "colab": {
      "name": "END2.0 Session 1 - Ashwin.ipynb",
      "provenance": []
    },
    "kernelspec": {
      "name": "python3",
      "display_name": "Python 3"
    },
    "language_info": {
      "name": "python"
    }
  },
  "cells": [
    {
      "cell_type": "code",
      "metadata": {
        "colab": {
          "base_uri": "https://localhost:8080/"
        },
        "id": "GC_6PeobwwkH",
        "outputId": "5d97f2ff-4f3e-4b1f-daf6-d9248ea1e71f"
      },
      "source": [
        "import torch\n",
        "from torch.autograd import Variable\n",
        "import torch.nn as nn\n",
        "import torch.nn.functional as F\n",
        "import torch.optim as optim\n",
        "import numpy as np\n",
        "import matplotlib.pyplot as plt\n",
        "%matplotlib inline\n",
        "torch.manual_seed(2)"
      ],
      "execution_count": 1,
      "outputs": [
        {
          "output_type": "execute_result",
          "data": {
            "text/plain": [
              "<torch._C.Generator at 0x7fbc4ace88d0>"
            ]
          },
          "metadata": {
            "tags": []
          },
          "execution_count": 1
        }
      ]
    },
    {
      "cell_type": "code",
      "metadata": {
        "id": "bL64bMTkw2GP"
      },
      "source": [
        "X = torch.Tensor([[0,0], [0,1], [1,0], [1,1]])\n",
        "Y = torch.Tensor([0, 1, 1, 0]).view(-1,1)"
      ],
      "execution_count": 2,
      "outputs": []
    },
    {
      "cell_type": "code",
      "metadata": {
        "id": "aC82kEAIw3Wf"
      },
      "source": [
        "class XOR(nn.Module):\n",
        "    def __init__(self, input_dim = 2, output_dim=1):\n",
        "        super(XOR, self).__init__()\n",
        "        self.lin1 = nn.Linear(input_dim, 5)\n",
        "        self.lin2 = nn.Linear(5, 4)\n",
        "        self.lin3 = nn.Linear(4, output_dim)\n",
        "    \n",
        "    def forward(self, x):\n",
        "        x = self.lin1(x)\n",
        "        x = F.tanh(x)\n",
        "        x = self.lin2(x)\n",
        "        x = F.tanh(x)\n",
        "        x = self.lin3(x)\n",
        "        return x"
      ],
      "execution_count": 56,
      "outputs": []
    },
    {
      "cell_type": "code",
      "metadata": {
        "colab": {
          "base_uri": "https://localhost:8080/"
        },
        "id": "8gQIQExYw65K",
        "outputId": "66a9d4a6-f96a-4fc8-d978-d7df0a8c157d"
      },
      "source": [
        "model = XOR()\n",
        "print(model)\n",
        "from torchsummary import summary\n",
        "summary(model, (2,2))"
      ],
      "execution_count": 57,
      "outputs": [
        {
          "output_type": "stream",
          "text": [
            "XOR(\n",
            "  (lin1): Linear(in_features=2, out_features=5, bias=True)\n",
            "  (lin2): Linear(in_features=5, out_features=4, bias=True)\n",
            "  (lin3): Linear(in_features=4, out_features=1, bias=True)\n",
            ")\n",
            "----------------------------------------------------------------\n",
            "        Layer (type)               Output Shape         Param #\n",
            "================================================================\n",
            "            Linear-1                 [-1, 2, 5]              15\n",
            "            Linear-2                 [-1, 2, 4]              24\n",
            "            Linear-3                 [-1, 2, 1]               5\n",
            "================================================================\n",
            "Total params: 44\n",
            "Trainable params: 44\n",
            "Non-trainable params: 0\n",
            "----------------------------------------------------------------\n",
            "Input size (MB): 0.00\n",
            "Forward/backward pass size (MB): 0.00\n",
            "Params size (MB): 0.00\n",
            "Estimated Total Size (MB): 0.00\n",
            "----------------------------------------------------------------\n"
          ],
          "name": "stdout"
        },
        {
          "output_type": "stream",
          "text": [
            "/usr/local/lib/python3.7/dist-packages/torch/nn/functional.py:1698: UserWarning: nn.functional.tanh is deprecated. Use torch.tanh instead.\n",
            "  warnings.warn(\"nn.functional.tanh is deprecated. Use torch.tanh instead.\")\n"
          ],
          "name": "stderr"
        }
      ]
    },
    {
      "cell_type": "code",
      "metadata": {
        "id": "yeotEq19x6XF"
      },
      "source": [
        "def weights_init(model):\n",
        "    for m in model.modules():\n",
        "        if isinstance(m, nn.Linear):\n",
        "            # initialize the weight tensor, here we use a normal distribution\n",
        "            m.weight.data.normal_(0, 1)\n",
        "\n",
        "weights_init(model)"
      ],
      "execution_count": 58,
      "outputs": []
    },
    {
      "cell_type": "code",
      "metadata": {
        "id": "WrD_sNzLx78e"
      },
      "source": [
        "loss_func = nn.L1Loss()"
      ],
      "execution_count": 59,
      "outputs": []
    },
    {
      "cell_type": "code",
      "metadata": {
        "id": "-zvbrMd2x_lA"
      },
      "source": [
        "optimizer = optim.SGD(model.parameters(), lr=0.02, momentum=0.9)\n"
      ],
      "execution_count": 60,
      "outputs": []
    },
    {
      "cell_type": "code",
      "metadata": {
        "colab": {
          "base_uri": "https://localhost:8080/"
        },
        "id": "q7tWa3D7yA5X",
        "outputId": "f75b6ded-6b44-4ca6-82dc-a1e2c051c0c4"
      },
      "source": [
        "epochs = 2001\n",
        "steps = X.size(0)\n",
        "for i in range(epochs):\n",
        "    for j in range(steps):\n",
        "        data_point = np.random.randint(X.size(0))\n",
        "        x_var = Variable(X[data_point], requires_grad=False)\n",
        "        y_var = Variable(Y[data_point], requires_grad=False)\n",
        "        \n",
        "        optimizer.zero_grad()\n",
        "        y_hat = model(x_var)\n",
        "        loss = loss_func.forward(y_hat, y_var)\n",
        "        loss.backward()\n",
        "        optimizer.step()\n",
        "        \n",
        "    if i % 50 == 0:\n",
        "        print( \"Epoch: {0}, Loss: {1}, \".format(i + 1, loss.data.numpy()))"
      ],
      "execution_count": 61,
      "outputs": [
        {
          "output_type": "stream",
          "text": [
            "/usr/local/lib/python3.7/dist-packages/torch/nn/functional.py:1698: UserWarning: nn.functional.tanh is deprecated. Use torch.tanh instead.\n",
            "  warnings.warn(\"nn.functional.tanh is deprecated. Use torch.tanh instead.\")\n"
          ],
          "name": "stderr"
        },
        {
          "output_type": "stream",
          "text": [
            "Epoch: 1, Loss: 4.229745864868164, \n",
            "Epoch: 51, Loss: 0.01860034465789795, \n",
            "Epoch: 101, Loss: 0.5818690061569214, \n",
            "Epoch: 151, Loss: 0.282509446144104, \n",
            "Epoch: 201, Loss: 0.1946304440498352, \n",
            "Epoch: 251, Loss: 0.004135608673095703, \n",
            "Epoch: 301, Loss: 0.07743149995803833, \n",
            "Epoch: 351, Loss: 0.030032575130462646, \n",
            "Epoch: 401, Loss: 0.2386292815208435, \n",
            "Epoch: 451, Loss: 0.3287900388240814, \n",
            "Epoch: 501, Loss: 0.3049662709236145, \n",
            "Epoch: 551, Loss: 0.26946866512298584, \n",
            "Epoch: 601, Loss: 0.015365839004516602, \n",
            "Epoch: 651, Loss: 0.2796626091003418, \n",
            "Epoch: 701, Loss: 0.11835682392120361, \n",
            "Epoch: 751, Loss: 0.3040308952331543, \n",
            "Epoch: 801, Loss: 0.21744447946548462, \n",
            "Epoch: 851, Loss: 0.07182556390762329, \n",
            "Epoch: 901, Loss: 0.13436347246170044, \n",
            "Epoch: 951, Loss: 0.31731116771698, \n",
            "Epoch: 1001, Loss: 0.09803712368011475, \n",
            "Epoch: 1051, Loss: 0.002219855785369873, \n",
            "Epoch: 1101, Loss: 0.497812956571579, \n",
            "Epoch: 1151, Loss: 0.1765880584716797, \n",
            "Epoch: 1201, Loss: 0.147125244140625, \n",
            "Epoch: 1251, Loss: 0.11734641343355179, \n",
            "Epoch: 1301, Loss: 0.020027436316013336, \n",
            "Epoch: 1351, Loss: 0.15110114216804504, \n",
            "Epoch: 1401, Loss: 0.021072745323181152, \n",
            "Epoch: 1451, Loss: 0.30677270889282227, \n",
            "Epoch: 1501, Loss: 0.15415096282958984, \n",
            "Epoch: 1551, Loss: 0.0801537036895752, \n",
            "Epoch: 1601, Loss: 0.11987602710723877, \n",
            "Epoch: 1651, Loss: 0.311799556016922, \n",
            "Epoch: 1701, Loss: 0.15410953760147095, \n",
            "Epoch: 1751, Loss: 0.21406590938568115, \n",
            "Epoch: 1801, Loss: 0.13212360441684723, \n",
            "Epoch: 1851, Loss: 0.4180409908294678, \n",
            "Epoch: 1901, Loss: 0.37648308277130127, \n",
            "Epoch: 1951, Loss: 0.36937135457992554, \n",
            "Epoch: 2001, Loss: 0.2102535516023636, \n"
          ],
          "name": "stdout"
        }
      ]
    },
    {
      "cell_type": "code",
      "metadata": {
        "id": "QV0dIdveyCRi"
      },
      "source": [
        ""
      ],
      "execution_count": null,
      "outputs": []
    }
  ]
}